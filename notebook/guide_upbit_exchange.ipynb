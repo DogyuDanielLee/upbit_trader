{
 "cells": [
  {
   "attachments": {},
   "cell_type": "markdown",
   "metadata": {},
   "source": [
    "# Guide for UPBIT Exchange API"
   ]
  },
  {
   "cell_type": "code",
   "execution_count": 1,
   "metadata": {},
   "outputs": [],
   "source": [
    "# setting for path\n",
    "import os\n",
    "import sys\n",
    "sys.path.append(os.path.dirname(os.path.abspath('')))\n",
    "\n",
    "# import libraries\n",
    "import numpy as np\n",
    "import pandas as pd\n",
    "import datetime\n",
    "from utils.upbit_api import UpbitExchangeAPI"
   ]
  },
  {
   "cell_type": "code",
   "execution_count": 2,
   "metadata": {},
   "outputs": [],
   "source": [
    "# call upbit exchange api\n",
    "# 본가\n",
    "ACCESS_KEY = \"NkZEbxPIcm9xwxrlxp6ZBYyZTv3x2M2nfdXxr1zC\" # 카톡으로 보내드리겠음\n",
    "SECRET_KEY = \"3s5OUROPPUwdjXInA2A61gL3xtYg3TL8eUxuzOlf\" # 카톡으로 보내드리겠음\n",
    "\n",
    "# 일커피\n",
    "ACCESS_KEY = \"Of6zxGrJABUsdQLUxxJA1rZeQMDKvwmdpwExRBxj\"\n",
    "SECRET_KEY = \"hv2dXLxaN0xxFwnGM6dGGziQVYJE9JxplxpcxSJ3\"\n",
    "upbit = UpbitExchangeAPI(ACCESS_KEY, SECRET_KEY)"
   ]
  },
  {
   "attachments": {},
   "cell_type": "markdown",
   "metadata": {},
   "source": [
    "### 예시: 시장가로 매수 주문해보기"
   ]
  },
  {
   "cell_type": "code",
   "execution_count": 3,
   "metadata": {},
   "outputs": [
    {
     "name": "stdout",
     "output_type": "stream",
     "text": [
      "{'uuid': '02e5611c-e436-4f44-8194-b5171f098fe2', 'side': 'bid', 'ord_type': 'price', 'price': '6000', 'state': 'wait', 'market': 'KRW-BTC', 'created_at': '2023-01-31T14:30:41.808117+09:00', 'reserved_fee': '3', 'remaining_fee': '3', 'paid_fee': '0', 'locked': '6003', 'executed_volume': '0', 'trades_count': 0}\n"
     ]
    },
    {
     "data": {
      "text/plain": [
       "'02e5611c-e436-4f44-8194-b5171f098fe2'"
      ]
     },
     "execution_count": 3,
     "metadata": {},
     "output_type": "execute_result"
    }
   ],
   "source": [
    "# 거래 성공 사례\n",
    "a = upbit.post_buy_market(market=\"KRW-BTC\", price=6000)\n",
    "a"
   ]
  },
  {
   "cell_type": "code",
   "execution_count": 4,
   "metadata": {},
   "outputs": [
    {
     "name": "stdout",
     "output_type": "stream",
     "text": [
      "{'name': 'under_min_total_bid', 'message': '최소주문금액 이상으로 주문해주세요'}\n"
     ]
    },
    {
     "data": {
      "text/plain": [
       "'error'"
      ]
     },
     "execution_count": 4,
     "metadata": {},
     "output_type": "execute_result"
    }
   ],
   "source": [
    "# 거래 실패 사례: 최소주문 금액(5000원) 못 맞춤\n",
    "upbit.post_buy_market(market=\"KRW-BTC\", price=1000)"
   ]
  },
  {
   "cell_type": "code",
   "execution_count": 5,
   "metadata": {},
   "outputs": [
    {
     "name": "stdout",
     "output_type": "stream",
     "text": [
      "{'message': 'This access key is incorrect.', 'name': 'invalid_access_key'}\n"
     ]
    },
    {
     "data": {
      "text/plain": [
       "'error'"
      ]
     },
     "execution_count": 5,
     "metadata": {},
     "output_type": "execute_result"
    }
   ],
   "source": [
    "# 거래 실패 사례: ACCESS_KEY, SECRET_KEY 등 불일치\n",
    "ACCESS_KEY = \"hello\" # 카톡으로 보내드리겠음\n",
    "SECRET_KEY = \"huisu\" # 카톡으로 보내드리겠음\n",
    "upbit = UpbitExchangeAPI(ACCESS_KEY, SECRET_KEY)\n",
    "upbit.post_buy_market(market=\"KRW-BTC\", price=5000)"
   ]
  },
  {
   "cell_type": "code",
   "execution_count": 6,
   "metadata": {},
   "outputs": [
    {
     "name": "stdout",
     "output_type": "stream",
     "text": [
      "{'uuid': '02e5611c-e436-4f44-8194-b5171f098fe2', 'side': 'bid', 'ord_type': 'price', 'price': '6000', 'state': 'cancel', 'market': 'KRW-BTC', 'created_at': '2023-01-31T14:30:42+09:00', 'reserved_fee': '3', 'remaining_fee': '0.00003714', 'paid_fee': '2.99996286', 'locked': '0.07431714', 'executed_volume': '0.00020929', 'trades_count': 1, 'trades': [{'market': 'KRW-BTC', 'uuid': 'a68467ae-c37e-4e05-bbce-b05d3dee34a0', 'price': '28668000', 'volume': '0.00020929', 'funds': '5999.92572', 'trend': 'up', 'created_at': '2023-01-31T14:30:41+09:00', 'side': 'bid'}]}\n"
     ]
    }
   ],
   "source": [
    "ACCESS_KEY = \"Of6zxGrJABUsdQLUxxJA1rZeQMDKvwmdpwExRBxj\"\n",
    "SECRET_KEY = \"hv2dXLxaN0xxFwnGM6dGGziQVYJE9JxplxpcxSJ3\"\n",
    "upbit = UpbitExchangeAPI(ACCESS_KEY, SECRET_KEY)\n",
    "upbit.get_order_info('02e5611c-e436-4f44-8194-b5171f098fe2')"
   ]
  },
  {
   "cell_type": "code",
   "execution_count": null,
   "metadata": {},
   "outputs": [],
   "source": []
  }
 ],
 "metadata": {
  "kernelspec": {
   "display_name": "base",
   "language": "python",
   "name": "python3"
  },
  "language_info": {
   "codemirror_mode": {
    "name": "ipython",
    "version": 3
   },
   "file_extension": ".py",
   "mimetype": "text/x-python",
   "name": "python",
   "nbconvert_exporter": "python",
   "pygments_lexer": "ipython3",
   "version": "3.8.8"
  },
  "orig_nbformat": 4,
  "vscode": {
   "interpreter": {
    "hash": "f6f54bbb280c5d78dfe0e6107167d2e1332ddd7d872dc088392978458c853428"
   }
  }
 },
 "nbformat": 4,
 "nbformat_minor": 2
}
